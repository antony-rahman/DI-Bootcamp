{
 "cells": [
  {
   "cell_type": "markdown",
   "id": "bf1e4d16",
   "metadata": {},
   "source": [
    "ex 1 :\n"
   ]
  },
  {
   "cell_type": "code",
   "execution_count": 1,
   "id": "17ab0909",
   "metadata": {},
   "outputs": [],
   "source": [
    "import numpy as np"
   ]
  },
  {
   "cell_type": "code",
   "execution_count": 4,
   "id": "c4bb148c",
   "metadata": {},
   "outputs": [],
   "source": [
    "def create_arr(start,step,length):\n",
    "    return np.arange(start,(length * step)+ step, step )"
   ]
  },
  {
   "cell_type": "code",
   "execution_count": 7,
   "id": "8cd4c53a",
   "metadata": {},
   "outputs": [],
   "source": [
    "x = np.array(range(6,404,4))\n"
   ]
  },
  {
   "cell_type": "code",
   "execution_count": 8,
   "id": "988a0859",
   "metadata": {},
   "outputs": [
    {
     "data": {
      "text/plain": [
       "array([  6,  10,  14,  18,  22,  26,  30,  34,  38,  42,  46,  50,  54,\n",
       "        58,  62,  66,  70,  74,  78,  82,  86,  90,  94,  98, 102, 106,\n",
       "       110, 114, 118, 122, 126, 130, 134, 138, 142, 146, 150, 154, 158,\n",
       "       162, 166, 170, 174, 178, 182, 186, 190, 194, 198, 202, 206, 210,\n",
       "       214, 218, 222, 226, 230, 234, 238, 242, 246, 250, 254, 258, 262,\n",
       "       266, 270, 274, 278, 282, 286, 290, 294, 298, 302, 306, 310, 314,\n",
       "       318, 322, 326, 330, 334, 338, 342, 346, 350, 354, 358, 362, 366,\n",
       "       370, 374, 378, 382, 386, 390, 394, 398, 402])"
      ]
     },
     "execution_count": 8,
     "metadata": {},
     "output_type": "execute_result"
    }
   ],
   "source": [
    "x"
   ]
  },
  {
   "cell_type": "code",
   "execution_count": 9,
   "id": "793ba229",
   "metadata": {},
   "outputs": [
    {
     "data": {
      "text/plain": [
       "(100,)"
      ]
     },
     "execution_count": 9,
     "metadata": {},
     "output_type": "execute_result"
    }
   ],
   "source": [
    "x.shape"
   ]
  },
  {
   "cell_type": "code",
   "execution_count": 10,
   "id": "c7d478c3",
   "metadata": {},
   "outputs": [],
   "source": [
    "x2 = create_arr(6,4,100)"
   ]
  },
  {
   "cell_type": "code",
   "execution_count": 11,
   "id": "4d469e84",
   "metadata": {},
   "outputs": [
    {
     "data": {
      "text/plain": [
       "array([  6,  10,  14,  18,  22,  26,  30,  34,  38,  42,  46,  50,  54,\n",
       "        58,  62,  66,  70,  74,  78,  82,  86,  90,  94,  98, 102, 106,\n",
       "       110, 114, 118, 122, 126, 130, 134, 138, 142, 146, 150, 154, 158,\n",
       "       162, 166, 170, 174, 178, 182, 186, 190, 194, 198, 202, 206, 210,\n",
       "       214, 218, 222, 226, 230, 234, 238, 242, 246, 250, 254, 258, 262,\n",
       "       266, 270, 274, 278, 282, 286, 290, 294, 298, 302, 306, 310, 314,\n",
       "       318, 322, 326, 330, 334, 338, 342, 346, 350, 354, 358, 362, 366,\n",
       "       370, 374, 378, 382, 386, 390, 394, 398, 402])"
      ]
     },
     "execution_count": 11,
     "metadata": {},
     "output_type": "execute_result"
    }
   ],
   "source": [
    "x2"
   ]
  },
  {
   "cell_type": "markdown",
   "id": "de2d4933",
   "metadata": {},
   "source": [
    "ex 2 :\n"
   ]
  },
  {
   "cell_type": "code",
   "execution_count": 13,
   "id": "fd3b5ef0",
   "metadata": {},
   "outputs": [
    {
     "name": "stdout",
     "output_type": "stream",
     "text": [
      "[ 1.  2.  3. nan  5.  6.  7. nan]\n"
     ]
    }
   ],
   "source": [
    "a = np.array([1,2,3,np.nan,5,6,7,np.nan])\n",
    "print(a)"
   ]
  },
  {
   "cell_type": "code",
   "execution_count": 14,
   "id": "21312614",
   "metadata": {},
   "outputs": [
    {
     "data": {
      "text/plain": [
       "array([False, False, False,  True, False, False, False,  True])"
      ]
     },
     "execution_count": 14,
     "metadata": {},
     "output_type": "execute_result"
    }
   ],
   "source": [
    "np.isnan(a)"
   ]
  },
  {
   "cell_type": "code",
   "execution_count": 15,
   "id": "2d7eda42",
   "metadata": {},
   "outputs": [
    {
     "data": {
      "text/plain": [
       "array([False, False,  True, False,  True,  True,  True, False])"
      ]
     },
     "execution_count": 15,
     "metadata": {},
     "output_type": "execute_result"
    }
   ],
   "source": [
    "a > 2"
   ]
  },
  {
   "cell_type": "code",
   "execution_count": 16,
   "id": "4f1bb259",
   "metadata": {},
   "outputs": [
    {
     "data": {
      "text/plain": [
       "array([False,  True, False, False, False,  True, False, False])"
      ]
     },
     "execution_count": 16,
     "metadata": {},
     "output_type": "execute_result"
    }
   ],
   "source": [
    "a % 2 == 0"
   ]
  },
  {
   "cell_type": "code",
   "execution_count": 18,
   "id": "cab358d0",
   "metadata": {},
   "outputs": [
    {
     "data": {
      "text/plain": [
       "array([nan, nan])"
      ]
     },
     "execution_count": 18,
     "metadata": {},
     "output_type": "execute_result"
    }
   ],
   "source": [
    "a[np.isnan(a)]"
   ]
  },
  {
   "cell_type": "code",
   "execution_count": 19,
   "id": "29de5646",
   "metadata": {},
   "outputs": [
    {
     "data": {
      "text/plain": [
       "array([3., 5., 6., 7.])"
      ]
     },
     "execution_count": 19,
     "metadata": {},
     "output_type": "execute_result"
    }
   ],
   "source": [
    "a[ a> 2]"
   ]
  },
  {
   "cell_type": "markdown",
   "id": "68ecbe20",
   "metadata": {},
   "source": [
    "ex 3 :"
   ]
  },
  {
   "cell_type": "code",
   "execution_count": 22,
   "id": "7fc71070",
   "metadata": {},
   "outputs": [],
   "source": [
    "x = np.random.randint(100, size = (5,6))"
   ]
  },
  {
   "cell_type": "code",
   "execution_count": 23,
   "id": "6d011620",
   "metadata": {},
   "outputs": [
    {
     "data": {
      "text/plain": [
       "array([[93, 93, 39, 25, 81, 20],\n",
       "       [14,  1, 18, 28, 45, 28],\n",
       "       [56,  5, 94, 54, 46, 15],\n",
       "       [33, 23, 68,  1, 26, 61],\n",
       "       [40, 59, 94, 37, 77,  2]])"
      ]
     },
     "execution_count": 23,
     "metadata": {},
     "output_type": "execute_result"
    }
   ],
   "source": [
    "x"
   ]
  },
  {
   "cell_type": "code",
   "execution_count": 24,
   "id": "571c7ca7",
   "metadata": {},
   "outputs": [
    {
     "data": {
      "text/plain": [
       "94"
      ]
     },
     "execution_count": 24,
     "metadata": {},
     "output_type": "execute_result"
    }
   ],
   "source": [
    "np.max(x)"
   ]
  },
  {
   "cell_type": "code",
   "execution_count": null,
   "id": "c886b571",
   "metadata": {},
   "outputs": [],
   "source": []
  }
 ],
 "metadata": {
  "kernelspec": {
   "display_name": "Python 3 (ipykernel)",
   "language": "python",
   "name": "python3"
  },
  "language_info": {
   "codemirror_mode": {
    "name": "ipython",
    "version": 3
   },
   "file_extension": ".py",
   "mimetype": "text/x-python",
   "name": "python",
   "nbconvert_exporter": "python",
   "pygments_lexer": "ipython3",
   "version": "3.11.0"
  }
 },
 "nbformat": 4,
 "nbformat_minor": 5
}
